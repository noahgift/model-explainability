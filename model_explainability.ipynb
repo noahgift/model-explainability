{
  "nbformat": 4,
  "nbformat_minor": 0,
  "metadata": {
    "colab": {
      "name": "model-explainability.ipynb",
      "provenance": [],
      "authorship_tag": "ABX9TyPJ8y182YulNqx0OkaCODsw",
      "include_colab_link": true
    },
    "kernelspec": {
      "name": "python3",
      "display_name": "Python 3"
    },
    "language_info": {
      "name": "python"
    }
  },
  "cells": [
    {
      "cell_type": "markdown",
      "metadata": {
        "id": "view-in-github",
        "colab_type": "text"
      },
      "source": [
        "<a href=\"https://colab.research.google.com/github/noahgift/model-explainability/blob/main/model_explainability.ipynb\" target=\"_parent\"><img src=\"https://colab.research.google.com/assets/colab-badge.svg\" alt=\"Open In Colab\"/></a>"
      ]
    },
    {
      "cell_type": "markdown",
      "metadata": {
        "id": "-mkgm3uZ4xS7"
      },
      "source": [
        "# Predict a winning team"
      ]
    },
    {
      "cell_type": "markdown",
      "metadata": {
        "id": "oKGP228P45Fb"
      },
      "source": [
        "## Ingest"
      ]
    },
    {
      "cell_type": "code",
      "metadata": {
        "colab": {
          "base_uri": "https://localhost:8080/",
          "height": 333
        },
        "id": "QaByCGEk41N_",
        "outputId": "4dc25477-36be-4dca-aa0a-79c8e74c6455"
      },
      "source": [
        "import pandas as pd\n",
        "\n",
        "player_data = \"https://raw.githubusercontent.com/noahgift/socialpowernba/\\\n",
        "master/data/nba_2017_players_with_salary_wiki_twitter.csv\"\n",
        "df = pd.read_csv(player_data)\n",
        "df.head()"
      ],
      "execution_count": 3,
      "outputs": [
        {
          "output_type": "execute_result",
          "data": {
            "text/html": [
              "<div>\n",
              "<style scoped>\n",
              "    .dataframe tbody tr th:only-of-type {\n",
              "        vertical-align: middle;\n",
              "    }\n",
              "\n",
              "    .dataframe tbody tr th {\n",
              "        vertical-align: top;\n",
              "    }\n",
              "\n",
              "    .dataframe thead th {\n",
              "        text-align: right;\n",
              "    }\n",
              "</style>\n",
              "<table border=\"1\" class=\"dataframe\">\n",
              "  <thead>\n",
              "    <tr style=\"text-align: right;\">\n",
              "      <th></th>\n",
              "      <th>Unnamed: 0</th>\n",
              "      <th>Rk</th>\n",
              "      <th>PLAYER</th>\n",
              "      <th>POSITION</th>\n",
              "      <th>AGE</th>\n",
              "      <th>MP</th>\n",
              "      <th>FG</th>\n",
              "      <th>FGA</th>\n",
              "      <th>FG%</th>\n",
              "      <th>3P</th>\n",
              "      <th>3PA</th>\n",
              "      <th>3P%</th>\n",
              "      <th>2P</th>\n",
              "      <th>2PA</th>\n",
              "      <th>2P%</th>\n",
              "      <th>eFG%</th>\n",
              "      <th>FT</th>\n",
              "      <th>FTA</th>\n",
              "      <th>FT%</th>\n",
              "      <th>ORB</th>\n",
              "      <th>DRB</th>\n",
              "      <th>TRB</th>\n",
              "      <th>AST</th>\n",
              "      <th>STL</th>\n",
              "      <th>BLK</th>\n",
              "      <th>TOV</th>\n",
              "      <th>PF</th>\n",
              "      <th>POINTS</th>\n",
              "      <th>TEAM</th>\n",
              "      <th>GP</th>\n",
              "      <th>MPG</th>\n",
              "      <th>ORPM</th>\n",
              "      <th>DRPM</th>\n",
              "      <th>RPM</th>\n",
              "      <th>WINS_RPM</th>\n",
              "      <th>PIE</th>\n",
              "      <th>PACE</th>\n",
              "      <th>W</th>\n",
              "      <th>SALARY_MILLIONS</th>\n",
              "      <th>PAGEVIEWS</th>\n",
              "      <th>TWITTER_FAVORITE_COUNT</th>\n",
              "      <th>TWITTER_RETWEET_COUNT</th>\n",
              "    </tr>\n",
              "  </thead>\n",
              "  <tbody>\n",
              "    <tr>\n",
              "      <th>0</th>\n",
              "      <td>0</td>\n",
              "      <td>1</td>\n",
              "      <td>Russell Westbrook</td>\n",
              "      <td>PG</td>\n",
              "      <td>28</td>\n",
              "      <td>34.6</td>\n",
              "      <td>10.2</td>\n",
              "      <td>24.0</td>\n",
              "      <td>0.425</td>\n",
              "      <td>2.5</td>\n",
              "      <td>7.2</td>\n",
              "      <td>0.343</td>\n",
              "      <td>7.7</td>\n",
              "      <td>16.8</td>\n",
              "      <td>0.459</td>\n",
              "      <td>0.476</td>\n",
              "      <td>8.8</td>\n",
              "      <td>10.4</td>\n",
              "      <td>0.845</td>\n",
              "      <td>1.7</td>\n",
              "      <td>9.0</td>\n",
              "      <td>10.7</td>\n",
              "      <td>10.4</td>\n",
              "      <td>1.6</td>\n",
              "      <td>0.4</td>\n",
              "      <td>5.4</td>\n",
              "      <td>2.3</td>\n",
              "      <td>31.6</td>\n",
              "      <td>OKC</td>\n",
              "      <td>81</td>\n",
              "      <td>34.6</td>\n",
              "      <td>6.74</td>\n",
              "      <td>-0.47</td>\n",
              "      <td>6.27</td>\n",
              "      <td>17.34</td>\n",
              "      <td>23.0</td>\n",
              "      <td>102.31</td>\n",
              "      <td>46</td>\n",
              "      <td>26.50</td>\n",
              "      <td>4279.0</td>\n",
              "      <td>2130.5</td>\n",
              "      <td>559.0</td>\n",
              "    </tr>\n",
              "    <tr>\n",
              "      <th>1</th>\n",
              "      <td>1</td>\n",
              "      <td>2</td>\n",
              "      <td>James Harden</td>\n",
              "      <td>PG</td>\n",
              "      <td>27</td>\n",
              "      <td>36.4</td>\n",
              "      <td>8.3</td>\n",
              "      <td>18.9</td>\n",
              "      <td>0.440</td>\n",
              "      <td>3.2</td>\n",
              "      <td>9.3</td>\n",
              "      <td>0.347</td>\n",
              "      <td>5.1</td>\n",
              "      <td>9.6</td>\n",
              "      <td>0.530</td>\n",
              "      <td>0.525</td>\n",
              "      <td>9.2</td>\n",
              "      <td>10.9</td>\n",
              "      <td>0.847</td>\n",
              "      <td>1.2</td>\n",
              "      <td>7.0</td>\n",
              "      <td>8.1</td>\n",
              "      <td>11.2</td>\n",
              "      <td>1.5</td>\n",
              "      <td>0.5</td>\n",
              "      <td>5.7</td>\n",
              "      <td>2.7</td>\n",
              "      <td>29.1</td>\n",
              "      <td>HOU</td>\n",
              "      <td>81</td>\n",
              "      <td>36.4</td>\n",
              "      <td>6.38</td>\n",
              "      <td>-1.57</td>\n",
              "      <td>4.81</td>\n",
              "      <td>15.54</td>\n",
              "      <td>19.0</td>\n",
              "      <td>102.98</td>\n",
              "      <td>54</td>\n",
              "      <td>26.50</td>\n",
              "      <td>3279.0</td>\n",
              "      <td>969.0</td>\n",
              "      <td>321.5</td>\n",
              "    </tr>\n",
              "    <tr>\n",
              "      <th>2</th>\n",
              "      <td>2</td>\n",
              "      <td>4</td>\n",
              "      <td>Anthony Davis</td>\n",
              "      <td>C</td>\n",
              "      <td>23</td>\n",
              "      <td>36.1</td>\n",
              "      <td>10.3</td>\n",
              "      <td>20.3</td>\n",
              "      <td>0.505</td>\n",
              "      <td>0.5</td>\n",
              "      <td>1.8</td>\n",
              "      <td>0.299</td>\n",
              "      <td>9.7</td>\n",
              "      <td>18.6</td>\n",
              "      <td>0.524</td>\n",
              "      <td>0.518</td>\n",
              "      <td>6.9</td>\n",
              "      <td>8.6</td>\n",
              "      <td>0.802</td>\n",
              "      <td>2.3</td>\n",
              "      <td>9.5</td>\n",
              "      <td>11.8</td>\n",
              "      <td>2.1</td>\n",
              "      <td>1.3</td>\n",
              "      <td>2.2</td>\n",
              "      <td>2.4</td>\n",
              "      <td>2.2</td>\n",
              "      <td>28.0</td>\n",
              "      <td>NO</td>\n",
              "      <td>75</td>\n",
              "      <td>36.1</td>\n",
              "      <td>0.45</td>\n",
              "      <td>3.90</td>\n",
              "      <td>4.35</td>\n",
              "      <td>12.81</td>\n",
              "      <td>19.2</td>\n",
              "      <td>100.19</td>\n",
              "      <td>31</td>\n",
              "      <td>22.12</td>\n",
              "      <td>82.5</td>\n",
              "      <td>368.0</td>\n",
              "      <td>104.0</td>\n",
              "    </tr>\n",
              "    <tr>\n",
              "      <th>3</th>\n",
              "      <td>3</td>\n",
              "      <td>6</td>\n",
              "      <td>DeMarcus Cousins</td>\n",
              "      <td>C</td>\n",
              "      <td>26</td>\n",
              "      <td>34.2</td>\n",
              "      <td>9.0</td>\n",
              "      <td>19.9</td>\n",
              "      <td>0.452</td>\n",
              "      <td>1.8</td>\n",
              "      <td>5.0</td>\n",
              "      <td>0.361</td>\n",
              "      <td>7.2</td>\n",
              "      <td>14.8</td>\n",
              "      <td>0.483</td>\n",
              "      <td>0.498</td>\n",
              "      <td>7.2</td>\n",
              "      <td>9.3</td>\n",
              "      <td>0.772</td>\n",
              "      <td>2.1</td>\n",
              "      <td>8.9</td>\n",
              "      <td>11.0</td>\n",
              "      <td>4.6</td>\n",
              "      <td>1.4</td>\n",
              "      <td>1.3</td>\n",
              "      <td>3.7</td>\n",
              "      <td>3.9</td>\n",
              "      <td>27.0</td>\n",
              "      <td>NO/SAC</td>\n",
              "      <td>72</td>\n",
              "      <td>34.2</td>\n",
              "      <td>3.56</td>\n",
              "      <td>0.64</td>\n",
              "      <td>4.20</td>\n",
              "      <td>11.26</td>\n",
              "      <td>17.8</td>\n",
              "      <td>97.11</td>\n",
              "      <td>30</td>\n",
              "      <td>16.96</td>\n",
              "      <td>1625.5</td>\n",
              "      <td>102.0</td>\n",
              "      <td>91.5</td>\n",
              "    </tr>\n",
              "    <tr>\n",
              "      <th>4</th>\n",
              "      <td>4</td>\n",
              "      <td>7</td>\n",
              "      <td>Damian Lillard</td>\n",
              "      <td>PG</td>\n",
              "      <td>26</td>\n",
              "      <td>35.9</td>\n",
              "      <td>8.8</td>\n",
              "      <td>19.8</td>\n",
              "      <td>0.444</td>\n",
              "      <td>2.9</td>\n",
              "      <td>7.7</td>\n",
              "      <td>0.370</td>\n",
              "      <td>6.0</td>\n",
              "      <td>12.1</td>\n",
              "      <td>0.492</td>\n",
              "      <td>0.516</td>\n",
              "      <td>6.5</td>\n",
              "      <td>7.3</td>\n",
              "      <td>0.895</td>\n",
              "      <td>0.6</td>\n",
              "      <td>4.3</td>\n",
              "      <td>4.9</td>\n",
              "      <td>5.9</td>\n",
              "      <td>0.9</td>\n",
              "      <td>0.3</td>\n",
              "      <td>2.6</td>\n",
              "      <td>2.0</td>\n",
              "      <td>27.0</td>\n",
              "      <td>POR</td>\n",
              "      <td>75</td>\n",
              "      <td>35.9</td>\n",
              "      <td>4.63</td>\n",
              "      <td>-1.49</td>\n",
              "      <td>3.14</td>\n",
              "      <td>10.72</td>\n",
              "      <td>15.9</td>\n",
              "      <td>99.68</td>\n",
              "      <td>38</td>\n",
              "      <td>24.33</td>\n",
              "      <td>1830.5</td>\n",
              "      <td>186.5</td>\n",
              "      <td>43.0</td>\n",
              "    </tr>\n",
              "  </tbody>\n",
              "</table>\n",
              "</div>"
            ],
            "text/plain": [
              "   Unnamed: 0  Rk  ... TWITTER_FAVORITE_COUNT TWITTER_RETWEET_COUNT\n",
              "0           0   1  ...                 2130.5                 559.0\n",
              "1           1   2  ...                  969.0                 321.5\n",
              "2           2   4  ...                  368.0                 104.0\n",
              "3           3   6  ...                  102.0                  91.5\n",
              "4           4   7  ...                  186.5                  43.0\n",
              "\n",
              "[5 rows x 42 columns]"
            ]
          },
          "metadata": {
            "tags": []
          },
          "execution_count": 3
        }
      ]
    },
    {
      "cell_type": "markdown",
      "metadata": {
        "id": "yF51WDnD6Mjo"
      },
      "source": [
        "## Feature Engineering: Create a new Feature...Winning Season"
      ]
    },
    {
      "cell_type": "code",
      "metadata": {
        "colab": {
          "base_uri": "https://localhost:8080/",
          "height": 316
        },
        "id": "zFMPc3KC47A3",
        "outputId": "0c79a46c-fbe1-406d-cba0-881adb7a4554"
      },
      "source": [
        "def winning_season(wins):\n",
        "  \n",
        "  if wins > 42:\n",
        "      return 1\n",
        "  return 0\n",
        "\n",
        "df[\"winning_season\"] = df[\"W\"].apply(winning_season)\n",
        "\n",
        "import seaborn as sns\n",
        "sns.scatterplot(x=\"W\", y=\"AGE\", hue=\"winning_season\", data=df)"
      ],
      "execution_count": 4,
      "outputs": [
        {
          "output_type": "execute_result",
          "data": {
            "text/plain": [
              "<matplotlib.axes._subplots.AxesSubplot at 0x7f7c1cf0e690>"
            ]
          },
          "metadata": {
            "tags": []
          },
          "execution_count": 4
        },
        {
          "output_type": "display_data",
          "data": {
            "image/png": "[encoded data removed]",
            "text/plain": [
              "<Figure size 432x288 with 1 Axes>"
            ]
          },
          "metadata": {
            "tags": [],
            "needs_background": "light"
          }
        }
      ]
    },
    {
      "cell_type": "markdown",
      "metadata": {
        "id": "n5tBko0V8zHS"
      },
      "source": [
        "## Modeling"
      ]
    },
    {
      "cell_type": "code",
      "metadata": {
        "id": "WnlXVULF82vP"
      },
      "source": [
        "df2 = df[[\"AGE\", \"POINTS\", \"SALARY_MILLIONS\", \"PAGEVIEWS\", \n",
        "          \"TWITTER_FAVORITE_COUNT\",\"winning_season\", \"TOV\"]]\n",
        "df = df2.dropna()\n",
        "target = df[\"winning_season\"]\n",
        "features = df[[\"AGE\", \"POINTS\",\"SALARY_MILLIONS\", \"PAGEVIEWS\", \n",
        "               \"TWITTER_FAVORITE_COUNT\", \"TOV\"]]\n",
        "classes = [\"winning\", \"losing\"]"
      ],
      "execution_count": 7,
      "outputs": []
    },
    {
      "cell_type": "code",
      "metadata": {
        "colab": {
          "base_uri": "https://localhost:8080/"
        },
        "id": "Jsh-Rp8e83aM",
        "outputId": "a1e0aabd-d7ea-4ea4-b64a-263be688863f"
      },
      "source": [
        "df2.shape"
      ],
      "execution_count": 6,
      "outputs": [
        {
          "output_type": "execute_result",
          "data": {
            "text/plain": [
              "(239, 7)"
            ]
          },
          "metadata": {
            "tags": []
          },
          "execution_count": 6
        }
      ]
    },
    {
      "cell_type": "code",
      "metadata": {
        "id": "_3OqK8SL846e"
      },
      "source": [
        "from sklearn.model_selection import train_test_split\n",
        "x_train, x_test, y_train, y_test = train_test_split(features, target,\n",
        "                                                    test_size=0.25, \n",
        "                                                    random_state=0)"
      ],
      "execution_count": 15,
      "outputs": []
    },
    {
      "cell_type": "code",
      "metadata": {
        "colab": {
          "base_uri": "https://localhost:8080/"
        },
        "id": "nHlF2iOU9yu7",
        "outputId": "595fc0e2-7b8a-4fe3-aab4-ccf388e2ecbd"
      },
      "source": [
        "x_train.shape"
      ],
      "execution_count": 9,
      "outputs": [
        {
          "output_type": "execute_result",
          "data": {
            "text/plain": [
              "(177, 6)"
            ]
          },
          "metadata": {
            "tags": []
          },
          "execution_count": 9
        }
      ]
    },
    {
      "cell_type": "markdown",
      "metadata": {
        "id": "YEGaOifk90Va"
      },
      "source": [
        "Use Logistic Regression"
      ]
    },
    {
      "cell_type": "code",
      "metadata": {
        "id": "2KYYAztY92Gz"
      },
      "source": [
        "from sklearn.linear_model import LogisticRegression"
      ],
      "execution_count": 11,
      "outputs": []
    },
    {
      "cell_type": "code",
      "metadata": {
        "colab": {
          "base_uri": "https://localhost:8080/"
        },
        "id": "ZSjQ1V3I97bT",
        "outputId": "ebf9e870-c2b0-4867-fa3f-a378ac98c7d2"
      },
      "source": [
        "model = LogisticRegression(solver='lbfgs', max_iter=1000)\n",
        "model.fit(x_train, y_train)"
      ],
      "execution_count": 14,
      "outputs": [
        {
          "output_type": "execute_result",
          "data": {
            "text/plain": [
              "LogisticRegression(C=1.0, class_weight=None, dual=False, fit_intercept=True,\n",
              "                   intercept_scaling=1, l1_ratio=None, max_iter=1000,\n",
              "                   multi_class='auto', n_jobs=None, penalty='l2',\n",
              "                   random_state=None, solver='lbfgs', tol=0.0001, verbose=0,\n",
              "                   warm_start=False)"
            ]
          },
          "metadata": {
            "tags": []
          },
          "execution_count": 14
        }
      ]
    },
    {
      "cell_type": "markdown",
      "metadata": {
        "id": "o_kt2Hul_BNH"
      },
      "source": [
        "## Model Explainability"
      ]
    },
    {
      "cell_type": "markdown",
      "metadata": {
        "id": "_3-sEoO0_Gzv"
      },
      "source": [
        "### Using SHAP"
      ]
    },
    {
      "cell_type": "code",
      "metadata": {
        "colab": {
          "base_uri": "https://localhost:8080/"
        },
        "id": "DYL4WlSq_DjZ",
        "outputId": "93a05d08-1e96-47ed-e690-1db7881571b4"
      },
      "source": [
        "!pip install -q  shap"
      ],
      "execution_count": 16,
      "outputs": [
        {
          "output_type": "stream",
          "text": [
            "\u001b[?25l\r\u001b[K     |█                               | 10kB 20.0MB/s eta 0:00:01\r\u001b[K     |█▉                              | 20kB 7.3MB/s eta 0:00:01\r\u001b[K     |██▊                             | 30kB 4.5MB/s eta 0:00:01\r\u001b[K     |███▊                            | 40kB 4.2MB/s eta 0:00:01\r\u001b[K     |████▋                           | 51kB 2.1MB/s eta 0:00:01\r\u001b[K     |█████▌                          | 61kB 2.4MB/s eta 0:00:01\r\u001b[K     |██████▍                         | 71kB 2.6MB/s eta 0:00:01\r\u001b[K     |███████▍                        | 81kB 2.7MB/s eta 0:00:01\r\u001b[K     |████████▎                       | 92kB 2.9MB/s eta 0:00:01\r\u001b[K     |█████████▏                      | 102kB 3.0MB/s eta 0:00:01\r\u001b[K     |██████████▏                     | 112kB 3.0MB/s eta 0:00:01\r\u001b[K     |███████████                     | 122kB 3.0MB/s eta 0:00:01\r\u001b[K     |████████████                    | 133kB 3.0MB/s eta 0:00:01\r\u001b[K     |████████████▉                   | 143kB 3.0MB/s eta 0:00:01\r\u001b[K     |█████████████▉                  | 153kB 3.0MB/s eta 0:00:01\r\u001b[K     |██████████████▊                 | 163kB 3.0MB/s eta 0:00:01\r\u001b[K     |███████████████▋                | 174kB 3.0MB/s eta 0:00:01\r\u001b[K     |████████████████▋               | 184kB 3.0MB/s eta 0:00:01\r\u001b[K     |█████████████████▌              | 194kB 3.0MB/s eta 0:00:01\r\u001b[K     |██████████████████▍             | 204kB 3.0MB/s eta 0:00:01\r\u001b[K     |███████████████████▎            | 215kB 3.0MB/s eta 0:00:01\r\u001b[K     |████████████████████▎           | 225kB 3.0MB/s eta 0:00:01\r\u001b[K     |█████████████████████▏          | 235kB 3.0MB/s eta 0:00:01\r\u001b[K     |██████████████████████          | 245kB 3.0MB/s eta 0:00:01\r\u001b[K     |███████████████████████         | 256kB 3.0MB/s eta 0:00:01\r\u001b[K     |████████████████████████        | 266kB 3.0MB/s eta 0:00:01\r\u001b[K     |████████████████████████▉       | 276kB 3.0MB/s eta 0:00:01\r\u001b[K     |█████████████████████████▊      | 286kB 3.0MB/s eta 0:00:01\r\u001b[K     |██████████████████████████▊     | 296kB 3.0MB/s eta 0:00:01\r\u001b[K     |███████████████████████████▋    | 307kB 3.0MB/s eta 0:00:01\r\u001b[K     |████████████████████████████▌   | 317kB 3.0MB/s eta 0:00:01\r\u001b[K     |█████████████████████████████▍  | 327kB 3.0MB/s eta 0:00:01\r\u001b[K     |██████████████████████████████▍ | 337kB 3.0MB/s eta 0:00:01\r\u001b[K     |███████████████████████████████▎| 348kB 3.0MB/s eta 0:00:01\r\u001b[K     |████████████████████████████████| 358kB 3.0MB/s \n",
            "\u001b[?25h  Building wheel for shap (setup.py) ... \u001b[?25l\u001b[?25hdone\n"
          ],
          "name": "stdout"
        }
      ]
    },
    {
      "cell_type": "code",
      "metadata": {
        "id": "-2vDMNXw_Lj4"
      },
      "source": [
        ""
      ],
      "execution_count": null,
      "outputs": []
    }
  ]
}